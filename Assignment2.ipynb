{
  "nbformat": 4,
  "nbformat_minor": 0,
  "metadata": {
    "colab": {
      "provenance": []
    },
    "kernelspec": {
      "name": "python3",
      "display_name": "Python 3"
    },
    "language_info": {
      "name": "python"
    }
  },
  "cells": [
    {
      "cell_type": "markdown",
      "source": [
        "# Machine Learning HW2"
      ],
      "metadata": {
        "id": "38EeFy6KFf1W"
      }
    },
    {
      "cell_type": "markdown",
      "source": [
        "## Preprocessing the Dataset"
      ],
      "metadata": {
        "id": "pdHJ62yYFzgj"
      }
    },
    {
      "cell_type": "code",
      "source": [
        "import pandas as pd\n",
        "import numpy as np\n",
        "from sklearn.model_selection import train_test_split\n",
        "# read csv\n",
        "dataset = pd.read_csv('./train.csv')\n",
        "# print(len(dataset))\n",
        "data_x = dataset[['age_of_car', 'make', 'population_density']]\n",
        "data_y = dataset['is_claim']\n",
        "\n",
        "# divide_dataset\n",
        "train_x, test_x, train_y, test_y = train_test_split(data_x, data_y, test_size = 0.2, random_state = 587)\n",
        "train_x = train_x.values.reshape(-1, len(data_x.columns))\n",
        "test_x = test_x.values.reshape(-1, len(data_x.columns))"
      ],
      "metadata": {
        "id": "S85Kt_p8PcPt"
      },
      "execution_count": 325,
      "outputs": []
    },
    {
      "cell_type": "markdown",
      "source": [
        "## Question 1-i\n",
        "\n"
      ],
      "metadata": {
        "id": "lPtANbIhHYvn"
      }
    },
    {
      "cell_type": "code",
      "source": [
        "class NaiveBayes:\n",
        "    def fit(self, X, y):\n",
        "        self.n_samples, self.n_features = X.shape\n",
        "        self.n_classes = len(np.unique(y))\n",
        "\n",
        "        self.mean = np.zeros((self.n_classes, self.n_features))\n",
        "        self.variance = np.zeros((self.n_classes, self.n_features))\n",
        "        self.priors = np.zeros(self.n_classes)\n",
        "\n",
        "        for c in range(self.n_classes):\n",
        "            X_c = X[y == c]\n",
        "\n",
        "            self.mean[c, :] = np.mean(X_c, axis=0)\n",
        "            self.variance[c, :] = np.var(X_c, axis=0)\n",
        "            self.priors[c] = X_c.shape[0] / self.n_samples\n",
        "\n",
        "    def predict(self, X):\n",
        "        y_hat = [self.get_class_probability(x) for x in X]\n",
        "        return np.array(y_hat)\n",
        "\n",
        "    def get_class_probability(self, x):\n",
        "        posteriors = list()\n",
        "\n",
        "        for c in range(self.n_classes):\n",
        "            mean = self.mean[c]\n",
        "            variance = self.variance[c]\n",
        "            prior = np.log(self.priors[c])\n",
        "\n",
        "            posterior = np.sum(np.log(self.gaussian_density(x, mean, variance)))\n",
        "            posterior = prior + posterior\n",
        "            posteriors.append(posterior)\n",
        "\n",
        "        return np.argmax(posteriors)\n",
        "\n",
        "    def gaussian_density(self, x, mean, var):\n",
        "        const = 1 / np.sqrt(var * 2 * np.pi)\n",
        "        proba = np.exp(-0.5 * ((x - mean) ** 2 / var))\n",
        "\n",
        "        return const * proba\n",
        "        \n",
        "def get_accuracy(y_true, y_pred):\n",
        "    accuracy = np.sum(y_true == y_pred) / len(y_true)\n",
        "    return accuracy"
      ],
      "metadata": {
        "id": "LLJXVoi2HilJ"
      },
      "execution_count": 323,
      "outputs": []
    },
    {
      "cell_type": "code",
      "source": [
        "nb = NaiveBayes()\n",
        "nb.fit(train_x, train_y)\n",
        "pred_y = nb.predict(test_x)\n",
        "\n",
        "print('Accuracy_score = ', get_accuracy(pred_y, test_y)*100, '%')"
      ],
      "metadata": {
        "colab": {
          "base_uri": "https://localhost:8080/"
        },
        "id": "oWyJkgvTLX1i",
        "outputId": "60590fa1-83df-47fb-f63d-d5bb37358ee0"
      },
      "execution_count": 326,
      "outputs": [
        {
          "output_type": "stream",
          "name": "stdout",
          "text": [
            "Accuracy_score =  93.54893762266406 %\n"
          ]
        }
      ]
    },
    {
      "cell_type": "markdown",
      "source": [
        "## Question 1-ii\n"
      ],
      "metadata": {
        "id": "lODIBRgEOaZs"
      }
    },
    {
      "cell_type": "code",
      "source": [
        "from sklearn.tree import DecisionTreeClassifier\n",
        "\n",
        "class RandomForest:\n",
        "    def __init__(self, n_trees=10, max_depth=10, min_samples_split=2, n_feature=None):\n",
        "        self.n_trees = n_trees\n",
        "        self.max_depth=max_depth\n",
        "        self.min_samples_split=min_samples_split\n",
        "        self.n_features=n_feature\n",
        "        self.trees = []\n",
        "\n",
        "    def fit(self, X, y):\n",
        "        self.trees = []\n",
        "        for _ in range(self.n_trees):\n",
        "            tree = DecisionTreeClassifier()\n",
        "            X_sample, y_sample = self._bootstrap_samples(X, y)\n",
        "            tree.fit(X_sample, y_sample)\n",
        "            self.trees.append(tree)\n",
        "\n",
        "    def _bootstrap_samples(self, X, y):\n",
        "        n_samples = X.shape[0]\n",
        "        idxs = np.random.choice(n_samples, n_samples, replace=True)\n",
        "        return X[idxs], y[idxs]\n",
        "\n",
        "    def _most_common_label(self, y):\n",
        "        counter = Counter(y)\n",
        "        most_common = counter.most_common(1)[0][0]\n",
        "        return most_common\n",
        "\n",
        "    def predict(self, X):\n",
        "        predictions = np.array([tree.predict(X) for tree in self.trees])\n",
        "        tree_preds = np.swapaxes(predictions, 0, 1)\n",
        "        predictions = np.array([self._most_common_label(pred) for pred in tree_preds])\n",
        "        return predictions\n",
        "\n",
        "# model train and fit\n",
        "model = RandomForest(n_trees=2)\n",
        "train_y_1 = train_y.values.reshape(len(train_y),)\n",
        "model.fit(train_x, train_y_1)\n",
        "pred_y = model.predict(test_x)\n",
        "\n",
        "print('Accuracy_score = ', get_accuracy(pred_y, test_y)*100, '%')"
      ],
      "metadata": {
        "colab": {
          "base_uri": "https://localhost:8080/"
        },
        "id": "bJgvazh4VGOa",
        "outputId": "ced4436f-fed0-48a4-87c5-ecc283fd1de2"
      },
      "execution_count": 314,
      "outputs": [
        {
          "output_type": "stream",
          "name": "stdout",
          "text": [
            "Accuracy_score =  89.92722178562886 %\n"
          ]
        }
      ]
    },
    {
      "cell_type": "markdown",
      "source": [
        "## Question 1-iii\n"
      ],
      "metadata": {
        "id": "R1u7L7-XBZDe"
      }
    },
    {
      "cell_type": "code",
      "source": [
        "from sklearn.ensemble import RandomForestClassifier\n",
        "from sklearn.metrics import accuracy_score\n",
        "\n",
        "\n",
        "randomforest = RandomForestClassifier(n_estimators=100)\n",
        "randomforest.fit(train_x, train_y)\n",
        "pred_y = randomforest.predict(test_x)\n",
        "\n",
        "print(f'Accuracy_score = {accuracy_score(pred_y, test_y)*100} %')"
      ],
      "metadata": {
        "colab": {
          "base_uri": "https://localhost:8080/"
        },
        "id": "Z07vuvQd-nbO",
        "outputId": "8451e27a-8fa0-42be-eef2-34ad0371ff4d"
      },
      "execution_count": 315,
      "outputs": [
        {
          "output_type": "stream",
          "name": "stdout",
          "text": [
            "Accuracy_score = 92.33266135921004 %\n"
          ]
        }
      ]
    },
    {
      "cell_type": "markdown",
      "source": [
        "## Question 1-iv\n",
        "I choose to use XGboost\n"
      ],
      "metadata": {
        "id": "zLu23vPXEruO"
      }
    },
    {
      "cell_type": "code",
      "source": [
        "!pip install catboost"
      ],
      "metadata": {
        "id": "mfTYYHa0GdPF"
      },
      "execution_count": null,
      "outputs": []
    },
    {
      "cell_type": "code",
      "source": [
        "from xgboost import XGBClassifier\n",
        "\n",
        "xgboostModel = XGBClassifier(n_estimators=100, learning_rate= 0.3)\n",
        "xgboostModel.fit(train_x, train_y)\n",
        "pred_y = xgboostModel.predict(test_x)\n",
        "\n",
        "print(f'xgboost accuracy_score = {accuracy_score(pred_y, test_y)*100} %')\n",
        "\n",
        "import lightgbm as lgb\n",
        "from lightgbm import LGBMClassifier\n",
        "\n",
        "classifier = lgb.LGBMClassifier(objective = 'binary', \n",
        "        learning_rate = 0.05, \n",
        "        n_estimators = 100, \n",
        "        random_state=0)\n",
        "classifier.fit(train_x, train_y)\n",
        "pred_y = classifier.predict(test_x)\n",
        "print(f'lightgbm accuracy_score = {accuracy_score(pred_y, test_y)*100} %')"
      ],
      "metadata": {
        "colab": {
          "base_uri": "https://localhost:8080/"
        },
        "id": "dJooHcbXEyk9",
        "outputId": "a1afec30-d605-40da-aab0-58dae92d8052"
      },
      "execution_count": 317,
      "outputs": [
        {
          "output_type": "stream",
          "name": "stdout",
          "text": [
            "xgboost accuracy_score = 92.72047015409848 %\n",
            "lightgbm accuracy_score = 93.60371749752281 %\n"
          ]
        }
      ]
    },
    {
      "cell_type": "markdown",
      "source": [
        "## Question 2-i"
      ],
      "metadata": {
        "id": "uFZUPMU8hVP3"
      }
    },
    {
      "cell_type": "code",
      "source": [
        "from sklearn.model_selection import cross_val_score\n",
        "# K = 3\n",
        "data_x_2 = data_x.values.reshape(-1, len(data_x.columns))\n",
        "data_y_2 = data_y.values.reshape((len(data_y)))\n",
        "scores = cross_val_score(xgboostModel, data_x_2, data_y_2, cv=3, scoring='accuracy')\n",
        "print(scores)\n",
        "print(scores.mean())\n",
        "# K = 5\n",
        "scores = cross_val_score(xgboostModel, data_x_2, data_y_2, cv=5, scoring='accuracy')\n",
        "print(scores)\n",
        "print(scores.mean())\n",
        "# K = 10\n",
        "scores = cross_val_score(xgboostModel, data_x_2, data_y_2, cv=10, scoring='accuracy')\n",
        "print(scores)\n",
        "print(scores.mean())"
      ],
      "metadata": {
        "colab": {
          "base_uri": "https://localhost:8080/"
        },
        "id": "zDhxiuqIhUpi",
        "outputId": "9459cdcf-1ad5-4338-8be2-922c576bd586"
      },
      "execution_count": 318,
      "outputs": [
        {
          "output_type": "stream",
          "name": "stdout",
          "text": [
            "[0.93605038 0.93599918 0.9359959 ]\n",
            "0.9360151553240786\n",
            "[0.93600137 0.93600137 0.93608124 0.93608124 0.9359959 ]\n",
            "0.9360322238823928\n",
            "[0.93600683 0.93600683 0.93616658 0.93616658 0.9359959  0.9359959\n",
            " 0.9359959  0.9359959  0.93582523 0.9359959 ]\n",
            "0.9360151559369878\n"
          ]
        }
      ]
    },
    {
      "cell_type": "markdown",
      "source": [
        "## Question 2-ii"
      ],
      "metadata": {
        "id": "zoOHVUujh5oU"
      }
    },
    {
      "cell_type": "code",
      "source": [
        "import time\n",
        "# xgboosting time compute\n",
        "print('xgboosting:')\n",
        "for i in [3, 5, 10]:\n",
        "  start_time = time.time()\n",
        "  scores = cross_val_score(xgboostModel, data_x_2, data_y_2, cv=i, scoring='accuracy')\n",
        "  print(f'mean_score = {scores.mean()}')\n",
        "  end_time = time.time()\n",
        "  print(f'run_time : {end_time - start_time} sec')\n",
        "  print('----------------------')\n",
        "# forest time compute\n",
        "print('RandomForest:')\n",
        "for i in [3, 5, 10]:\n",
        "  start_time = time.time()\n",
        "  scores = cross_val_score(randomforest, data_x_2, data_y_2, cv=i, scoring='accuracy')\n",
        "  print(f'mean_score = {scores.mean()}')\n",
        "  end_time = time.time()\n",
        "  print(f'run_time : {end_time - start_time} sec')\n",
        "  print('----------------------')  "
      ],
      "metadata": {
        "colab": {
          "base_uri": "https://localhost:8080/"
        },
        "id": "z8Ppxyp9h-DU",
        "outputId": "3a79e698-d3cb-471e-9e79-de5b06c39f5e"
      },
      "execution_count": 319,
      "outputs": [
        {
          "output_type": "stream",
          "name": "stdout",
          "text": [
            "xgboosting:\n",
            "mean_score = 0.9360151553240786\n",
            "run_time : 4.724787950515747 sec\n",
            "----------------------\n",
            "mean_score = 0.9360322238823928\n",
            "run_time : 26.38509488105774 sec\n",
            "----------------------\n",
            "mean_score = 0.9360151559369878\n",
            "run_time : 15.970160484313965 sec\n",
            "----------------------\n",
            "RandomForest:\n",
            "mean_score = 0.9352983269235513\n",
            "run_time : 9.045294284820557 sec\n",
            "----------------------\n",
            "mean_score = 0.9353324719787783\n",
            "run_time : 18.104450941085815 sec\n",
            "----------------------\n",
            "mean_score = 0.9352642065793008\n",
            "run_time : 24.760231256484985 sec\n",
            "----------------------\n"
          ]
        }
      ]
    },
    {
      "cell_type": "markdown",
      "source": [
        "## Question 2-iii"
      ],
      "metadata": {
        "id": "qh5epqXJh-1T"
      }
    },
    {
      "cell_type": "code",
      "source": [
        "# randomforest\n",
        "scores = cross_val_score(randomforest, data_x_2, data_y_2, cv=5, scoring='accuracy')\n",
        "print(scores)\n",
        "print(scores.mean())\n",
        "# xgboost\n",
        "scores = cross_val_score(xgboostModel, data_x_2, data_y_2, cv=5, scoring='accuracy')\n",
        "print(scores)\n",
        "print(scores.mean())\n",
        "\n",
        "scores = cross_val_score(classifier, data_x_2, data_y_2, cv=5, scoring='accuracy')\n",
        "print(scores)\n",
        "print(scores.mean())\n"
      ],
      "metadata": {
        "colab": {
          "base_uri": "https://localhost:8080/"
        },
        "id": "DMkNEWBkiBDT",
        "outputId": "b1100245-3949-462a-8703-8dfde4770d32"
      },
      "execution_count": 320,
      "outputs": [
        {
          "output_type": "stream",
          "name": "stdout",
          "text": [
            "[0.93489206 0.93531871 0.93582523 0.93565455 0.93548387]\n",
            "0.9354348829020509\n",
            "[0.93600137 0.93600137 0.93608124 0.93608124 0.9359959 ]\n",
            "0.9360322238823928\n",
            "[0.93600137 0.93600137 0.93608124 0.93608124 0.9359959 ]\n",
            "0.9360322238823928\n"
          ]
        }
      ]
    }
  ]
}