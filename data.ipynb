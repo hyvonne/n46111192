{
  "nbformat": 4,
  "nbformat_minor": 0,
  "metadata": {
    "colab": {
      "provenance": [],
      "collapsed_sections": [],
      "include_colab_link": true
    },
    "kernelspec": {
      "name": "python3",
      "display_name": "Python 3"
    },
    "language_info": {
      "name": "python"
    }
  },
  "cells": [
    {
      "cell_type": "markdown",
      "metadata": {
        "id": "view-in-github",
        "colab_type": "text"
      },
      "source": [
        "<a href=\"https://colab.research.google.com/github/yujung1998/Machine-Learning/blob/main/data.ipynb\" target=\"_parent\"><img src=\"https://colab.research.google.com/assets/colab-badge.svg\" alt=\"Open In Colab\"/></a>"
      ]
    },
    {
      "cell_type": "markdown",
      "source": [
        "2.linear classifier"
      ],
      "metadata": {
        "id": "D1wZd-1NppqN"
      }
    },
    {
      "cell_type": "code",
      "source": [
        "import pandas as pd\n",
        "import numpy as np\n",
        "# read csv\n",
        "df_data = pd.read_csv('./data.csv')\n",
        "df_crx = pd.read_csv('./crx.csv')\n",
        "# print(len(df_data))\n",
        "\n",
        "# data\n",
        "data_x = df_data['6'].to_numpy()\n",
        "data_y_init = df_data['Diagnosis']\n",
        "data_y = []\n",
        "for i in range(len(data_y_init)):\n",
        "  if data_y_init[i] == 'M':\n",
        "    data_y.append(1)\n",
        "  else:\n",
        "    data_y.append(-1)\n",
        "# print(data_y)"
      ],
      "metadata": {
        "id": "1kjwtEzMxA7C"
      },
      "execution_count": 1,
      "outputs": []
    },
    {
      "cell_type": "code",
      "source": [
        "from sklearn.preprocessing import LabelEncoder\n",
        "from sklearn.model_selection import train_test_split\n",
        "\n",
        "train_x, test_x, train_y, test_y = train_test_split(data_x, data_y, test_size = 0.2, random_state = 487)"
      ],
      "metadata": {
        "id": "Z776KF_lxxhs"
      },
      "execution_count": 6,
      "outputs": []
    },
    {
      "cell_type": "code",
      "source": [
        "w, b = 0, 0\n",
        "for i in range(len(train_x)):\n",
        "  x, y = train_x[i], train_y[i]\n",
        "  tmp = y * (w * x + b)\n",
        "  if(tmp <= 0):\n",
        "    w = w + y * x\n",
        "    b = b + y\n",
        "    # print(w,b)\n",
        "print(f'f(x) = {w} * x + ({b})')\n",
        "\n",
        "#\n",
        "pred_y = []\n",
        "for i in range(len(test_x)):\n",
        "  tmp = w * test_x[i] + b\n",
        "  if tmp > 0:\n",
        "    pred_y.append(1)\n",
        "  else:\n",
        "    pred_y.append(-1)\n",
        "# print(pred_y)"
      ],
      "metadata": {
        "colab": {
          "base_uri": "https://localhost:8080/"
        },
        "id": "pTP0jdV7yRya",
        "outputId": "c9a12636-63d2-4193-aa0c-4b492bba8718"
      },
      "execution_count": 7,
      "outputs": [
        {
          "output_type": "stream",
          "name": "stdout",
          "text": [
            "f(x) = 420.79999999999944 * x + (-80)\n"
          ]
        }
      ]
    },
    {
      "cell_type": "code",
      "source": [
        "from sklearn.metrics import accuracy_score\n",
        "print(f'{accuracy_score(test_y, pred_y)*100} %')"
      ],
      "metadata": {
        "colab": {
          "base_uri": "https://localhost:8080/"
        },
        "id": "Anp1yRaCyjl8",
        "outputId": "a9269098-9f56-498a-da3a-4f20920dcdce"
      },
      "execution_count": 8,
      "outputs": [
        {
          "output_type": "stream",
          "name": "stdout",
          "text": [
            "38.59649122807017 %\n"
          ]
        }
      ]
    },
    {
      "cell_type": "markdown",
      "source": [
        "3.least-square method"
      ],
      "metadata": {
        "id": "LyTZIxILynPI"
      }
    },
    {
      "cell_type": "code",
      "source": [
        "from scipy.optimize import curve_fit\n",
        "\n",
        "def func(train_data, w, b):\n",
        "  result = w * train_data + b\n",
        "  return result\n",
        "train_x_1 = train_x.flatten()\n",
        "alpha = curve_fit(func, xdata = train_x_1, ydata = train_y)[0]\n",
        "\n",
        "w_1, b_1 = alpha[0], alpha[1]\n",
        "print(f'f(x) = {w_1} * x + ({b_1})')"
      ],
      "metadata": {
        "colab": {
          "base_uri": "https://localhost:8080/"
        },
        "id": "0cwixjRwyko_",
        "outputId": "ff2c1557-a50c-4c90-b37b-b94277118604"
      },
      "execution_count": 9,
      "outputs": [
        {
          "output_type": "stream",
          "name": "stdout",
          "text": [
            "f(x) = 0.0019158612729008816 * x + (-1.511470356878459)\n"
          ]
        }
      ]
    },
    {
      "cell_type": "code",
      "source": [
        "pred_y = []\n",
        "for i in range(len(test_x)):\n",
        "  tmp = w_1 * test_x[i] + b_1\n",
        "  if tmp > 0:\n",
        "    pred_y.append(1)\n",
        "  else:\n",
        "    pred_y.append(-1)\n",
        "\n",
        "print(f'{accuracy_score(test_y, pred_y)*100} %')"
      ],
      "metadata": {
        "colab": {
          "base_uri": "https://localhost:8080/"
        },
        "id": "JuN2jcU3yrUl",
        "outputId": "f36f8a55-6b5d-4ab4-f412-46bb0b9d4956"
      },
      "execution_count": 10,
      "outputs": [
        {
          "output_type": "stream",
          "name": "stdout",
          "text": [
            "86.8421052631579 %\n"
          ]
        }
      ]
    },
    {
      "cell_type": "markdown",
      "source": [
        "4.Voted Perceptron Algorithm"
      ],
      "metadata": {
        "id": "AOa8kpsG3dK7"
      }
    },
    {
      "cell_type": "code",
      "source": [
        "from tqdm import tqdm\n",
        "def vote_perceptron(train_x, train_y, epoch_num):\n",
        "  w = b = 0\n",
        "  time_alive = 1\n",
        "  perceptrons = []\n",
        "  for _ in (range(epoch_num)):\n",
        "    for i in range(len(train_x)):\n",
        "      x = train_x[i]\n",
        "      y = train_y[i]\n",
        "      if y * (w * x + b) <= 0:\n",
        "        # w,b store\n",
        "        perceptrons.append([w, b, time_alive])\n",
        "        time_alive = 1\n",
        "        w = w + y * x\n",
        "        b = b + y\n",
        "      else:\n",
        "        time_alive += 1\n",
        "    perceptrons.append([w, b, time_alive])\n",
        "  # print(len(perceptrons))\n",
        "  return perceptrons\n",
        "\n",
        "def vp_predict(perceptrons, test_data):\n",
        "  sum = 0\n",
        "  for perceptron in (perceptrons):\n",
        "    w, b, weight = perceptron[0], perceptron[1], perceptron[2]\n",
        "    sum += weight * np.sign(w * test_data + b)\n",
        "  return np.sign(sum)"
      ],
      "metadata": {
        "id": "TAI2bQg53hPc"
      },
      "execution_count": 13,
      "outputs": []
    },
    {
      "cell_type": "code",
      "source": [
        "perceptrons = vote_perceptron(train_x, train_y, 70)\n",
        "pred_y = []\n",
        "for i in tqdm(range(len(test_x))):\n",
        "  pred_y.append(vp_predict(perceptrons, test_x[i]))\n",
        "\n",
        "print(f'\\n{accuracy_score(test_y, pred_y)*100} %')"
      ],
      "metadata": {
        "colab": {
          "base_uri": "https://localhost:8080/"
        },
        "id": "GuKIvhV73j95",
        "outputId": "bbc33941-a2e3-4a0b-c062-31f39e31ca5f"
      },
      "execution_count": 14,
      "outputs": [
        {
          "output_type": "stream",
          "name": "stderr",
          "text": [
            "100%|██████████| 114/114 [00:12<00:00,  8.99it/s]"
          ]
        },
        {
          "output_type": "stream",
          "name": "stdout",
          "text": [
            "\n",
            "38.59649122807017 %\n"
          ]
        },
        {
          "output_type": "stream",
          "name": "stderr",
          "text": [
            "\n"
          ]
        }
      ]
    },
    {
      "cell_type": "markdown",
      "source": [
        "7.SVM"
      ],
      "metadata": {
        "id": "5bwkcvSLy0kh"
      }
    },
    {
      "cell_type": "code",
      "source": [
        "from sklearn import svm\n",
        "from sklearn.metrics import accuracy_score\n",
        "clf = svm.SVC()\n",
        "train_x = train_x.reshape(-1, 1)\n",
        "clf.fit(train_x, train_y)\n",
        "\n",
        "pred_y = clf.predict(test_x.reshape(-1, 1))\n",
        "print(f'{accuracy_score(test_y, pred_y)*100} %')"
      ],
      "metadata": {
        "colab": {
          "base_uri": "https://localhost:8080/"
        },
        "id": "MSWL7SUly5l0",
        "outputId": "b900492b-bf3e-4a4e-b3f8-dc394a98ca0e"
      },
      "execution_count": 12,
      "outputs": [
        {
          "output_type": "stream",
          "name": "stdout",
          "text": [
            "90.35087719298247 %\n"
          ]
        }
      ]
    },
    {
      "cell_type": "code",
      "source": [
        "import matplotlib.pyplot as plt\n",
        "plt.style.use('ggplot')\n",
        "\n",
        "method = ['linear classifier', 'LSM', 'VP', 'SVM']\n",
        "scores = [59.42, 67.39, 61.59, 65.94]\n",
        "x = np.arange(len(method))\n",
        "plt.bar(x, scores)\n",
        "plt.xticks(x, method)\n",
        "plt.xlabel('method')\n",
        "plt.ylabel('score')\n",
        "plt.title('Score figure')\n",
        "plt.show()"
      ],
      "metadata": {
        "colab": {
          "base_uri": "https://localhost:8080/",
          "height": 299
        },
        "id": "9O4PLZIv4Ct1",
        "outputId": "2323abd9-de8e-4244-b43f-ea551010231c"
      },
      "execution_count": 15,
      "outputs": [
        {
          "output_type": "display_data",
          "data": {
            "text/plain": [
              "<Figure size 432x288 with 1 Axes>"
            ],
            "image/png": "[encoded data removed]"
          },
          "metadata": {}
        }
      ]
    }
  ]
}