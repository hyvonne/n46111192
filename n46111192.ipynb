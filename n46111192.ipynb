{
  "nbformat": 4,
  "nbformat_minor": 0,
  "metadata": {
    "colab": {
      "provenance": [],
      "collapsed_sections": [],
      "include_colab_link": true
    },
    "kernelspec": {
      "name": "python3",
      "display_name": "Python 3"
    },
    "language_info": {
      "name": "python"
    }
  },
  "cells": [
    {
      "cell_type": "markdown",
      "metadata": {
        "id": "view-in-github",
        "colab_type": "text"
      },
      "source": [
        "<a href=\"https://colab.research.google.com/github/hyvonne/n46111192/blob/main/n46111192.ipynb\" target=\"_parent\"><img src=\"https://colab.research.google.com/assets/colab-badge.svg\" alt=\"Open In Colab\"/></a>"
      ]
    },
    {
      "cell_type": "code",
      "source": [
        "import pandas as pd\n",
        "import sklearn\n",
        "from sklearn.model_selection import train_test_split\n",
        "df=pd.read_csv('crx.csv')\n",
        "df2=pd.read_csv('data.csv')\n",
        "x = df2['6']\n",
        "\n",
        "train_x = []\n",
        "test_x = []\n",
        "for i in range(500):\n",
        "  train_x.append([x[i]])\n",
        "\n",
        "for i in range(500,550):\n",
        "  test_x.append([x[i]])\n",
        "\n",
        "train_y = []\n",
        "test_y = []\n",
        "y = df2['Diagnosis']\n",
        "for i in range(500):\n",
        "  if(y[i] == 'M'):\n",
        "    train_y.append(1)\n",
        "  else:\n",
        "    train_y.append(0)\n",
        "for i in range(500,550):\n",
        "  if(y[i] == 'M'):\n",
        "    test_y.append(1)\n",
        "  else:\n",
        "    test_y.append(0)"
      ],
      "metadata": {
        "id": "SsM4rtHppCZo"
      },
      "execution_count": null,
      "outputs": []
    },
    {
      "cell_type": "markdown",
      "source": [],
      "metadata": {
        "id": "D1wZd-1NppqN"
      }
    },
    {
      "cell_type": "code",
      "source": [
        "from sklearn import svm\n",
        "from sklearn.metrics import accuracy_score\n",
        "clf = svm.SVC()\n",
        "clf.fit(train_x, train_y)\n",
        "\n",
        "y_pred = clf.predict(test_x)\n",
        "accuracy = accuracy_score(test_y, y_pred)*100\n",
        "print(accuracy)"
      ],
      "metadata": {
        "colab": {
          "base_uri": "https://localhost:8080/"
        },
        "id": "KDYfkmsypr84",
        "outputId": "72be1076-14d6-477f-ac55-5aa4116d1add"
      },
      "execution_count": null,
      "outputs": [
        {
          "output_type": "stream",
          "name": "stdout",
          "text": [
            "92.0\n"
          ]
        }
      ]
    },
    {
      "cell_type": "code",
      "source": [
        "add_num = 0\n",
        "del_num = 0\n",
        "for i in range(len(x)):\n",
        "  if(x[i]=='+'):\n",
        "    add_num += 1\n",
        "  elif(x[i]=='-'):\n",
        "    del_num += 1\n",
        "print(add_num, del_num)"
      ],
      "metadata": {
        "colab": {
          "base_uri": "https://localhost:8080/"
        },
        "id": "z_QiTS0trkDD",
        "outputId": "d05d98cf-534f-490d-c0ae-643be0b57407"
      },
      "execution_count": null,
      "outputs": [
        {
          "output_type": "stream",
          "name": "stdout",
          "text": [
            "307 383\n"
          ]
        }
      ]
    },
    {
      "cell_type": "code",
      "source": [
        "add_num = 0\n",
        "del_num = 0\n",
        "for i in range(len(y)):\n",
        "  if(y[i]=='M'):\n",
        "    add_num += 1\n",
        "  elif(y[i]=='B'):\n",
        "    del_num += 1\n",
        "print(add_num, del_num)"
      ],
      "metadata": {
        "colab": {
          "base_uri": "https://localhost:8080/"
        },
        "id": "SgzrH3gArlcE",
        "outputId": "bcd2f5c5-9d90-4954-a286-da8f10113c82"
      },
      "execution_count": null,
      "outputs": [
        {
          "output_type": "stream",
          "name": "stdout",
          "text": [
            "212 357\n"
          ]
        }
      ]
    }
  ]
}